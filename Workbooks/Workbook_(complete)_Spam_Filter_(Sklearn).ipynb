{
 "cells": [
  {
   "cell_type": "markdown",
   "metadata": {
    "colab_type": "text",
    "id": "SwawBDPuhgUP"
   },
   "source": [
    "# Machine Learning for Security Analysts - Workbook </br> Spam Filter (Scikit-learn)\n",
    "\n",
    "---\n",
    "\n",
    "\n",
    "Author: GTKlondike\n",
    "</br>\n",
    "Email: GTKlondike@gmail.com\n",
    "</br>\n",
    "YouTube: [NetSec Explained](https://www.youtube.com/channel/UCsKK7UIiYqvK35aWrCCgUUA)\n",
    "\n",
    "**Dataset:** https://github.com/NetsecExplained/Machine-Learning-for-Security-Analysts\n",
    "\n",
    "**Goal:** This workbook will walk you through the steps to build, train, test, and evaluate a series of spam classifiers using the Scikit-learn machine learning library\n",
    "\n",
    "**Outline:** \n",
    "* Initial Setup\n",
    "* Tokenization\n",
    "* Load Training Data\n",
    "* Vectorize Training Data\n",
    "* Load Testing Data\n",
    "* Train and Evaluate Models\n"
   ]
  },
  {
   "cell_type": "markdown",
   "metadata": {
    "colab_type": "text",
    "id": "mxS4n9Gfyvw2"
   },
   "source": [
    "## Instructions\n",
    "To use Jupyter notebooks:\n",
    "* To run a cell, click on the play button to the left of the code or pressh shift+enter\n",
    "* You will see a busy indicator in the top left area while the runtime is executing\n",
    "* A number will appear when the cell is done\n",
    "\n",
    "To complete the workbook:\n",
    "* Step through the workbook, completing the tasks in order"
   ]
  },
  {
   "cell_type": "markdown",
   "metadata": {
    "colab_type": "text",
    "id": "VjMomkNIzsJd"
   },
   "source": [
    "# Initial Setup\n",
    "We'll start by downloading the data and loading the needed libraries."
   ]
  },
  {
   "cell_type": "code",
   "execution_count": 1,
   "metadata": {
    "colab": {
     "base_uri": "https://localhost:8080/",
     "height": 34
    },
    "colab_type": "code",
    "id": "YM57dpKHMi8z",
    "outputId": "4f794f46-5f09-46ab-93a8-e33e5fe16cac"
   },
   "outputs": [
    {
     "name": "stderr",
     "output_type": "stream",
     "text": [
      "Cloning into 'Machine-Learning-for-Security-Analysts'...\n",
      "Updating files:  63% (2766/4335)\n",
      "Updating files:  64% (2775/4335)\n",
      "Updating files:  65% (2818/4335)\n",
      "Updating files:  66% (2862/4335)\n",
      "Updating files:  67% (2905/4335)\n",
      "Updating files:  68% (2948/4335)\n",
      "Updating files:  69% (2992/4335)\n",
      "Updating files:  70% (3035/4335)\n",
      "Updating files:  71% (3078/4335)\n",
      "Updating files:  72% (3122/4335)\n",
      "Updating files:  73% (3165/4335)\n",
      "Updating files:  74% (3208/4335)\n",
      "Updating files:  75% (3252/4335)\n",
      "Updating files:  76% (3295/4335)\n",
      "Updating files:  77% (3338/4335)\n",
      "Updating files:  78% (3382/4335)\n",
      "Updating files:  79% (3425/4335)\n",
      "Updating files:  80% (3468/4335)\n",
      "Updating files:  81% (3512/4335)\n",
      "Updating files:  82% (3555/4335)\n",
      "Updating files:  83% (3599/4335)\n",
      "Updating files:  84% (3642/4335)\n",
      "Updating files:  85% (3685/4335)\n",
      "Updating files:  86% (3729/4335)\n",
      "Updating files:  87% (3772/4335)\n",
      "Updating files:  88% (3815/4335)\n",
      "Updating files:  89% (3859/4335)\n",
      "Updating files:  90% (3902/4335)\n",
      "Updating files:  91% (3945/4335)\n",
      "Updating files:  92% (3989/4335)\n",
      "Updating files:  93% (4032/4335)\n",
      "Updating files:  94% (4075/4335)\n",
      "Updating files:  95% (4119/4335)\n",
      "Updating files:  96% (4162/4335)\n",
      "Updating files:  97% (4205/4335)\n",
      "Updating files:  98% (4249/4335)\n",
      "Updating files:  99% (4292/4335)\n",
      "Updating files: 100% (4335/4335)\n",
      "Updating files: 100% (4335/4335), done.\n"
     ]
    },
    {
     "name": "stdout",
     "output_type": "stream",
     "text": [
      "Collecting nltk\n",
      "  Using cached nltk-3.7-py3-none-any.whl (1.5 MB)\n",
      "Collecting sklearn\n",
      "  Using cached sklearn-0.0-py2.py3-none-any.whl\n",
      "Requirement already satisfied: pandas in c:\\users\\gstro\\anaconda3\\envs\\tf\\lib\\site-packages (1.4.3)\n",
      "Requirement already satisfied: matplotlib in c:\\users\\gstro\\anaconda3\\envs\\tf\\lib\\site-packages (3.5.2)\n",
      "Requirement already satisfied: seaborn in c:\\users\\gstro\\anaconda3\\envs\\tf\\lib\\site-packages (0.11.2)\n",
      "Requirement already satisfied: joblib in c:\\users\\gstro\\anaconda3\\envs\\tf\\lib\\site-packages (from nltk) (1.1.0)\n",
      "Requirement already satisfied: click in c:\\users\\gstro\\anaconda3\\envs\\tf\\lib\\site-packages (from nltk) (7.1.2)\n",
      "Collecting regex>=2021.8.3\n",
      "  Downloading regex-2022.7.25-cp39-cp39-win_amd64.whl (262 kB)\n",
      "     -------------------------------------- 262.8/262.8 kB 8.1 MB/s eta 0:00:00\n",
      "Requirement already satisfied: tqdm in c:\\users\\gstro\\anaconda3\\envs\\tf\\lib\\site-packages (from nltk) (4.64.0)\n",
      "Requirement already satisfied: scikit-learn in c:\\users\\gstro\\anaconda3\\envs\\tf\\lib\\site-packages (from sklearn) (0.24.2)\n",
      "Requirement already satisfied: python-dateutil>=2.8.1 in c:\\users\\gstro\\anaconda3\\envs\\tf\\lib\\site-packages (from pandas) (2.8.2)\n",
      "Requirement already satisfied: numpy>=1.18.5 in c:\\users\\gstro\\anaconda3\\envs\\tf\\lib\\site-packages (from pandas) (1.22.3)\n",
      "Requirement already satisfied: pytz>=2020.1 in c:\\users\\gstro\\anaconda3\\envs\\tf\\lib\\site-packages (from pandas) (2022.1)\n",
      "Requirement already satisfied: kiwisolver>=1.0.1 in c:\\users\\gstro\\anaconda3\\envs\\tf\\lib\\site-packages (from matplotlib) (1.4.3)\n",
      "Requirement already satisfied: cycler>=0.10 in c:\\users\\gstro\\anaconda3\\envs\\tf\\lib\\site-packages (from matplotlib) (0.11.0)\n",
      "Requirement already satisfied: pillow>=6.2.0 in c:\\users\\gstro\\anaconda3\\envs\\tf\\lib\\site-packages (from matplotlib) (9.2.0)\n",
      "Requirement already satisfied: packaging>=20.0 in c:\\users\\gstro\\anaconda3\\envs\\tf\\lib\\site-packages (from matplotlib) (21.3)\n",
      "Requirement already satisfied: pyparsing>=2.2.1 in c:\\users\\gstro\\anaconda3\\envs\\tf\\lib\\site-packages (from matplotlib) (3.0.4)\n",
      "Requirement already satisfied: fonttools>=4.22.0 in c:\\users\\gstro\\anaconda3\\envs\\tf\\lib\\site-packages (from matplotlib) (4.34.4)\n",
      "Requirement already satisfied: scipy>=1.0 in c:\\users\\gstro\\anaconda3\\envs\\tf\\lib\\site-packages (from seaborn) (1.8.1)\n",
      "Requirement already satisfied: six>=1.5 in c:\\users\\gstro\\anaconda3\\envs\\tf\\lib\\site-packages (from python-dateutil>=2.8.1->pandas) (1.16.0)\n",
      "Requirement already satisfied: threadpoolctl>=2.0.0 in c:\\users\\gstro\\anaconda3\\envs\\tf\\lib\\site-packages (from scikit-learn->sklearn) (3.1.0)\n",
      "Requirement already satisfied: colorama in c:\\users\\gstro\\anaconda3\\envs\\tf\\lib\\site-packages (from tqdm->nltk) (0.4.5)\n",
      "Installing collected packages: regex, nltk, sklearn\n",
      "Successfully installed nltk-3.7 regex-2022.7.25 sklearn-0.0\n"
     ]
    },
    {
     "name": "stderr",
     "output_type": "stream",
     "text": [
      "WARNING: Ignoring invalid distribution -lick (c:\\users\\gstro\\anaconda3\\envs\\tf\\lib\\site-packages)\n",
      "WARNING: Ignoring invalid distribution -lick (c:\\users\\gstro\\anaconda3\\envs\\tf\\lib\\site-packages)\n",
      "WARNING: Ignoring invalid distribution -lick (c:\\users\\gstro\\anaconda3\\envs\\tf\\lib\\site-packages)\n",
      "WARNING: Ignoring invalid distribution -lick (c:\\users\\gstro\\anaconda3\\envs\\tf\\lib\\site-packages)\n",
      "WARNING: Ignoring invalid distribution -lick (c:\\users\\gstro\\anaconda3\\envs\\tf\\lib\\site-packages)\n",
      "WARNING: Ignoring invalid distribution -lick (c:\\users\\gstro\\anaconda3\\envs\\tf\\lib\\site-packages)\n",
      "WARNING: Ignoring invalid distribution -lick (c:\\users\\gstro\\anaconda3\\envs\\tf\\lib\\site-packages)\n",
      "WARNING: Ignoring invalid distribution -lick (c:\\users\\gstro\\anaconda3\\envs\\tf\\lib\\site-packages)\n",
      "WARNING: Ignoring invalid distribution -lick (c:\\users\\gstro\\anaconda3\\envs\\tf\\lib\\site-packages)\n"
     ]
    }
   ],
   "source": [
    "# Download data from Github\n",
    "! git clone https://github.com/NetsecExplained/Machine-Learning-for-Security-Analysts.git\n",
    "  \n",
    "# Install dependencies\n",
    "! pip install nltk scikit-learn pandas matplotlib seaborn\n",
    "data_dir = \"Machine-Learning-for-Security-Analysts\""
   ]
  },
  {
   "cell_type": "code",
   "execution_count": 2,
   "metadata": {
    "colab": {
     "base_uri": "https://localhost:8080/",
     "height": 136
    },
    "colab_type": "code",
    "id": "_6QcEtvzX-E9",
    "outputId": "726d56f9-cb1f-4e9f-f2c4-99659ef62293"
   },
   "outputs": [
    {
     "name": "stderr",
     "output_type": "stream",
     "text": [
      "[nltk_data] Downloading package stopwords to\n",
      "[nltk_data]     C:\\Users\\gstro\\AppData\\Roaming\\nltk_data...\n",
      "[nltk_data]   Unzipping corpora\\stopwords.zip.\n",
      "[nltk_data] Downloading package punkt to\n",
      "[nltk_data]     C:\\Users\\gstro\\AppData\\Roaming\\nltk_data...\n",
      "[nltk_data]   Unzipping tokenizers\\punkt.zip.\n"
     ]
    },
    {
     "name": "stdout",
     "output_type": "stream",
     "text": [
      "\n",
      "### Libraries Imported ###\n",
      "\n"
     ]
    }
   ],
   "source": [
    "# Common imports\n",
    "import re, os, math, string, json\n",
    "import pandas as pd\n",
    "import numpy as np\n",
    "import matplotlib.pyplot as plt\n",
    "import random\n",
    "import re\n",
    "\n",
    "%matplotlib inline\n",
    "\n",
    "# Import Natural Language ToolKit library and download dictionaries\n",
    "import nltk\n",
    "nltk.download('stopwords')\n",
    "nltk.download('punkt')\n",
    "\n",
    "\n",
    "# Import Scikit-learn helper functions\n",
    "from sklearn.model_selection import train_test_split\n",
    "from sklearn.feature_extraction.text import TfidfVectorizer, CountVectorizer\n",
    "\n",
    "\n",
    "# Import Scikit-learn models\n",
    "from sklearn.linear_model import LogisticRegression\n",
    "from sklearn.naive_bayes import MultinomialNB\n",
    "\n",
    "\n",
    "# Import Scikit-learn metric functions\n",
    "from sklearn.metrics import confusion_matrix, classification_report\n",
    "import seaborn as sns\n",
    "\n",
    "\n",
    "\n",
    "print(\"\\n### Libraries Imported ###\\n\")"
   ]
  },
  {
   "cell_type": "code",
   "execution_count": 3,
   "metadata": {
    "colab": {
     "base_uri": "https://localhost:8080/",
     "height": 136
    },
    "colab_type": "code",
    "id": "lhkR4nMLMmRT",
    "outputId": "6bc75190-fdda-412f-f1a3-2eda8a1922d0"
   },
   "outputs": [
    {
     "name": "stdout",
     "output_type": "stream",
     "text": [
      "\n",
      "Re: Re: East Asian fonts in Lenny. Thanks for your support.  Installing unifonts did it well for me. ;)\n",
      "Nima\n",
      "--\n",
      "To UNSUBSCRIBE, email to debian-user-REQUEST@lists.debian.org\n",
      "with a subject of \"unsubscribe\". Trouble? Contact listmaster@lists.debian.org\n",
      "\n"
     ]
    }
   ],
   "source": [
    "# Test email from lecture slides\n",
    "test_email = \"\"\"\n",
    "Re: Re: East Asian fonts in Lenny. Thanks for your support.  Installing unifonts did it well for me. ;)\n",
    "Nima\n",
    "--\n",
    "To UNSUBSCRIBE, email to debian-user-REQUEST@lists.debian.org\n",
    "with a subject of \"unsubscribe\". Trouble? Contact listmaster@lists.debian.org\n",
    "\"\"\"\n",
    "print(test_email)"
   ]
  },
  {
   "cell_type": "markdown",
   "metadata": {
    "colab_type": "text",
    "id": "dPtTuWPDhy_Y"
   },
   "source": [
    "# Tokenization\n",
    "Continuing from where we left off with the slides, we'll start by creating our tokenizer."
   ]
  },
  {
   "cell_type": "code",
   "execution_count": 4,
   "metadata": {
    "colab": {
     "base_uri": "https://localhost:8080/",
     "height": 68
    },
    "colab_type": "code",
    "id": "qJKg9PaNMnA3",
    "outputId": "8427340b-7578-4023-dba5-f8645b72ffa3"
   },
   "outputs": [
    {
     "name": "stdout",
     "output_type": "stream",
     "text": [
      "\n",
      "### Tokenizer defined ###\n",
      "\n"
     ]
    }
   ],
   "source": [
    "# Define tokenizer\n",
    "#   The purpose of a tokenizer is to separate the features from the raw data\n",
    "\n",
    "def tokenizer(text):\n",
    "  \"\"\"Separates feature words from the raw data\n",
    "  Keyword arguments:\n",
    "    text ---- The full email body\n",
    "    \n",
    "  :Returns -- The tokenized words; returned as a list\n",
    "  \"\"\"\n",
    "  \n",
    "  # Retrieve a list of punctuation characters, a list of stopwords, and a stemmer function\n",
    "  punctuations = list(string.punctuation)\n",
    "  stopwords = nltk.corpus.stopwords.words('english')\n",
    "  stemmer = nltk.stem.PorterStemmer()\n",
    "  \n",
    "  \n",
    "  # Set email body to lowercase, separate words and strip out punctuation\n",
    "  tokens = nltk.word_tokenize(text.lower())\n",
    "  tokens = [i.strip(''.join(punctuations)) \n",
    "            for i in tokens \n",
    "            if i not in punctuations]\n",
    "  \n",
    "  \n",
    "  # User Porter Stemmer on each token\n",
    "  tokens = [stemmer.stem(i)\n",
    "            for i in tokens]\n",
    "  return [w for w in tokens if w not in stopwords and w != \"\"]\n",
    "\n",
    "print(\"\\n### Tokenizer defined ###\\n\")"
   ]
  },
  {
   "cell_type": "markdown",
   "metadata": {
    "colab_type": "text",
    "id": "Z_8CHFksox52"
   },
   "source": [
    "## Task 1 - Tokenize an email\n",
    "1. Print the full email, **test_email**\n",
    "2. Print the results of **tokenizer(test_email)**"
   ]
  },
  {
   "cell_type": "code",
   "execution_count": 5,
   "metadata": {
    "colab": {
     "base_uri": "https://localhost:8080/",
     "height": 275
    },
    "colab_type": "code",
    "id": "dGV5z4DRPHG-",
    "outputId": "fca6e1b6-a99e-4a54-baea-f0bf9737d37c"
   },
   "outputs": [
    {
     "name": "stdout",
     "output_type": "stream",
     "text": [
      "\n",
      "- Test Email Body -\n",
      "\n",
      "\n",
      "Re: Re: East Asian fonts in Lenny. Thanks for your support.  Installing unifonts did it well for me. ;)\n",
      "Nima\n",
      "--\n",
      "To UNSUBSCRIBE, email to debian-user-REQUEST@lists.debian.org\n",
      "with a subject of \"unsubscribe\". Trouble? Contact listmaster@lists.debian.org\n",
      "\n",
      "\n",
      " - Tokenized Output -\n",
      "\n",
      "['east', 'asian', 'font', 'lenni', 'thank', 'support', 'instal', 'unifont', 'well', 'nima', 'unsubscrib', 'email', 'debian-user-request', 'lists.debian.org', 'subject', 'unsubscrib', 'troubl', 'contact', 'listmast', 'lists.debian.org']\n"
     ]
    }
   ],
   "source": [
    "# Let's see how our tokenizer changes our email\n",
    "print(\"\\n- Test Email Body -\\n\")\n",
    "print(test_email)\n",
    "\n",
    "# Tokenize test email\n",
    "print(\"\\n - Tokenized Output -\\n\")\n",
    "tokenized_email = tokenizer(test_email)\n",
    "print(tokenized_email)"
   ]
  },
  {
   "cell_type": "markdown",
   "metadata": {
    "colab_type": "text",
    "id": "2h_fentliZuA"
   },
   "source": [
    "# Load Training Data\n",
    "With our tokenizer defined, let's take a look at our training data."
   ]
  },
  {
   "cell_type": "code",
   "execution_count": 6,
   "metadata": {
    "colab": {
     "base_uri": "https://localhost:8080/",
     "height": 68
    },
    "colab_type": "code",
    "id": "UT3pENI0iuMS",
    "outputId": "4de6aa38-6259-47a1-81d0-33b8bf683ed5"
   },
   "outputs": [
    {
     "name": "stdout",
     "output_type": "stream",
     "text": [
      "\n",
      "### Class Counting Complete ###\n",
      "\n"
     ]
    }
   ],
   "source": [
    "# Get counts of each class\n",
    "ham_count = len(os.listdir(data_dir+\"/ham\"))\n",
    "spam_count = len(os.listdir(data_dir+\"/spam\"))\n",
    "test_count = len(os.listdir(data_dir+\"/test\"))\n",
    "print(\"\\n### Class Counting Complete ###\\n\")"
   ]
  },
  {
   "cell_type": "markdown",
   "metadata": {
    "colab_type": "text",
    "id": "DL4NOtrUo3uL"
   },
   "source": [
    "## Task 2 - Load training data\n",
    "1. Create two *list()* arrays: **corpus** and **labels**\n",
    "2. Load the email bodies from from the **/ham** and **/spam** directories into the *corpus* array\n",
    "3. Load the labels for each email into the *labels* array\n",
    "\n",
    "\\* The lengths of *corpus* and *labels* should be identical"
   ]
  },
  {
   "cell_type": "code",
   "execution_count": 11,
   "metadata": {
    "colab": {
     "base_uri": "https://localhost:8080/",
     "height": 102
    },
    "colab_type": "code",
    "id": "tD1gB8EUMn6Q",
    "outputId": "10b19df0-c36e-43cf-cfaf-c0e206369fc5"
   },
   "outputs": [
    {
     "name": "stdout",
     "output_type": "stream",
     "text": [
      "- Loading Ham -\n",
      "- Loading Spam -\n",
      "\n",
      "### Loading Complete ###\n",
      "\n"
     ]
    }
   ],
   "source": [
    "# Load the training data\n",
    "#   \"corpus\" is used to store all of the email bodies in a list\n",
    "#   \"labels\" is used to store all of the labes for those email bodies\n",
    "\n",
    "corpus = []   # X values\n",
    "labels = []   # Y values\n",
    "\n",
    "# Load all of the emails from the \"ham\" directory\n",
    "print(\"- Loading Ham -\")\n",
    "\n",
    "for each in os.listdir(data_dir + '/ham'):\n",
    "  with open(data_dir + '/ham/' + each, 'r', encoding=\"utf8\") as f:\n",
    "    corpus.append(f.read())\n",
    "    labels.append(\"ham\")\n",
    "          \n",
    "\n",
    "# Load all of the emails from the \"spam\" directory\n",
    "print(\"- Loading Spam -\")\n",
    "\n",
    "for each in os.listdir(data_dir + '/spam'):\n",
    "  with open(data_dir + '/spam/'+each, 'r', encoding=\"utf8\") as f:\n",
    "    corpus.append(f.read())\n",
    "    labels.append(\"spam\")\n",
    "    \n",
    "    \n",
    "print(\"\\n### Loading Complete ###\\n\")"
   ]
  },
  {
   "cell_type": "code",
   "execution_count": 12,
   "metadata": {
    "colab": {
     "base_uri": "https://localhost:8080/",
     "height": 348
    },
    "colab_type": "code",
    "id": "ckYcXPpq49Co",
    "outputId": "17b636e0-95ef-492f-88b4-48f732d77d85"
   },
   "outputs": [
    {
     "name": "stdout",
     "output_type": "stream",
     "text": [
      "Ham: 2359\n",
      "Spam: 1102\n"
     ]
    },
    {
     "data": {
      "image/png": "[encoded data removed]",
      "text/plain": [
       "<Figure size 432x288 with 1 Axes>"
      ]
     },
     "metadata": {
      "needs_background": "light"
     },
     "output_type": "display_data"
    }
   ],
   "source": [
    "# Print counts of each class\n",
    "count_classes = pd.value_counts(labels)\n",
    "print(\"Ham:\", count_classes['ham'])\n",
    "print(\"Spam:\", count_classes['spam'])\n",
    "\n",
    "# Graph counts of each class\n",
    "count_classes.plot(kind=\"bar\", fontsize=16)\n",
    "plt.title(\"Class Count (training)\", fontsize=20)\n",
    "plt.xticks(rotation=\"horizontal\")\n",
    "plt.xlabel(\"Class\", fontsize=20)\n",
    "plt.ylabel(\"Class Count\", fontsize=20)\n",
    "plt.show()"
   ]
  },
  {
   "cell_type": "markdown",
   "metadata": {
    "colab_type": "text",
    "id": "XLErmbFUo7Ho"
   },
   "source": [
    "## Task 2a (optional) - View training data\n",
    "1. Show the full text body of a random email in *corpus*\n",
    "2. Show the *tokenized* result of the same email"
   ]
  },
  {
   "cell_type": "code",
   "execution_count": 13,
   "metadata": {
    "colab": {
     "base_uri": "https://localhost:8080/",
     "height": 819
    },
    "colab_type": "code",
    "id": "Mk4n6DvQMowG",
    "outputId": "03c6902d-5598-48a9-9dd9-ddd4ad6cd2f4"
   },
   "outputs": [
    {
     "name": "stdout",
     "output_type": "stream",
     "text": [
      "\n",
      "- Email (5) Body -\n",
      "\n",
      "Re: GA Development (was Re: [SAdev] [Bug 1030] NO_INVENTORY\n",
      "    dangerous)On Sep 25,  7:35pm, Daniel Quinlan wrote:\n",
      "> Allen Smith  writes:\n",
      "> \n",
      "> > Well, I have been doing a bit of fiddling with the GA. I don't have\n",
      "> > a _large_ corpus practically available to me (or processable within\n",
      "> > reasonable processor time - I can justify the GA fiddling part as\n",
      "> > being part of my research, but not the mail processing...), so in\n",
      "> > order to test out my changes someone needs to send me a copy of the\n",
      "> > \"tmp/scores.h\" and \"tmp/tests.h\" that get generated prior to the GA\n",
      "> > going into action.\n",
      "> \n",
      "> Why not start with mass-check corpus results? It's much easier to get\n",
      "> those\n",
      "\n",
      "Ah. As in getting a directory listing of the corpus server and doing some\n",
      "downloads? OK, done.\n",
      "\n",
      "> and you can create your own tmp/scores.h and tmp/tests.h.\n",
      "\n",
      "Good point. Will report back on my results.\n",
      "\n",
      "\t-Allen\n",
      "\n",
      "-- \n",
      "Allen Smith\t\t\thttp://cesario.rutgers.edu/easmith/\n",
      "September 11, 2001\t\tA Day That Shall Live In Infamy II\n",
      "\"They that can give up essential liberty to obtain a little temporary\n",
      "safety deserve neither liberty nor safety.\" - Benjamin Franklin\n",
      "\n",
      "\n",
      "\n",
      "\n",
      "- Tokenized Output -\n",
      "\n",
      "['ga', 'develop', 'wa', 'sadev', 'bug', '1030', 'no_inventori', 'danger', 'sep', '25', '7:35pm', 'daniel', 'quinlan', 'wrote', 'allen', 'smith', 'write', 'well', 'bit', 'fiddl', 'ga', \"n't\", 'larg', 'corpu', 'practic', 'avail', 'process', 'within', 'reason', 'processor', 'time', 'justifi', 'ga', 'fiddl', 'part', 'part', 'research', 'mail', 'process', 'order', 'test', 'chang', 'someon', 'need', 'send', 'copi', 'tmp/scores.h', 'tmp/tests.h', 'get', 'gener', 'prior', 'ga', 'go', 'action', 'whi', 'start', 'mass-check', 'corpu', 'result', 'much', 'easier', 'get', 'ah', 'get', 'directori', 'list', 'corpu', 'server', 'download', 'ok', 'done', 'creat', 'tmp/scores.h', 'tmp/tests.h', 'good', 'point', 'report', 'back', 'result', 'allen', 'allen', 'smith', 'http', 'cesario.rutgers.edu/easmith', 'septemb', '11', '2001', 'day', 'shall', 'live', 'infami', 'ii', 'give', 'essenti', 'liberti', 'obtain', 'littl', 'temporari', 'safeti', 'deserv', 'neither', 'liberti', 'safeti', 'benjamin', 'franklin']\n"
     ]
    }
   ],
   "source": [
    "# Let's see how our corpus looks\n",
    "emailID = 5\n",
    "\n",
    "email = corpus[emailID]\n",
    "print(\"\\n- Email ({}) Body -\\n\".format(emailID))\n",
    "print(email)\n",
    "print(\"\\n- Tokenized Output -\\n\")\n",
    "print(tokenizer(email))"
   ]
  },
  {
   "cell_type": "markdown",
   "metadata": {
    "colab_type": "text",
    "id": "q4PmEWehhCDo"
   },
   "source": [
    "# Vectorize the Data\n",
    "Now that the training data has been loaded, we'll train the vectorizers to turn our features into numbers.\n",
    "\n",
    "\n"
   ]
  },
  {
   "cell_type": "markdown",
   "metadata": {
    "colab_type": "text",
    "id": "nuZgNrloo_fO"
   },
   "source": [
    "## Task 3 - Train the vectorizers\n",
    "1. Create the count vectorizer **cVec** using the **CountVectorizer** function\n",
    "2. Configure *cVec* to use the *tokenizer* function from earlier\n",
    "3. Perform **fit_transform** on *cVec* to train the vectorizer with the *corpus*\\\n",
    "a. Save the result as **count_X**\n",
    "\n",
    "\n",
    "4. Create the TF-IDF vectorizer **tVec** using the **TfidfVectorizer** function\n",
    "5. Configure *tVec* to use the *tokenizer* function from earlier\n",
    "6. Perform **fit_transform** on *tVec* to train the vectorizer with the *corpus*\\\n",
    "a. Save the result as **tfidf_X** "
   ]
  },
  {
   "cell_type": "code",
   "execution_count": 14,
   "metadata": {
    "colab": {
     "base_uri": "https://localhost:8080/",
     "height": 102
    },
    "colab_type": "code",
    "id": "j7U5uXWGduem",
    "outputId": "54afd95b-4261-446b-a52d-c3f41e163aa4"
   },
   "outputs": [
    {
     "name": "stdout",
     "output_type": "stream",
     "text": [
      "- Training Count Vectorizer -\n",
      "- Training TF-IDF Vectorizer -\n",
      "\n",
      "### Vectorizing Complete ###\n",
      "\n"
     ]
    }
   ],
   "source": [
    "# Vectorize the training inputs -- Takes about 90 seconds to complete\n",
    "#   There are two types of vectors: \n",
    "#     1. Count vectorizer\n",
    "#     2. Term Frequency-Inverse Document Frequency (TF-IDF)\n",
    "\n",
    "\n",
    "print(\"- Training Count Vectorizer -\")\n",
    "cVec = CountVectorizer(tokenizer=tokenizer)\n",
    "count_X = cVec.fit_transform(corpus)\n",
    "\n",
    "print(\"- Training TF-IDF Vectorizer -\")\n",
    "tVec = TfidfVectorizer(tokenizer=tokenizer)\n",
    "tfidf_X = tVec.fit_transform(corpus)\n",
    "\n",
    "\n",
    "\n",
    "print(\"\\n### Vectorizing Complete ###\\n\")"
   ]
  },
  {
   "cell_type": "markdown",
   "metadata": {
    "colab_type": "text",
    "id": "9jQBLgmRpC8U"
   },
   "source": [
    "## Task 3a (optional) - Count the test email tokens\n",
    "1. Print the count of each *token* from **test_email**"
   ]
  },
  {
   "cell_type": "code",
   "execution_count": 15,
   "metadata": {
    "colab": {
     "base_uri": "https://localhost:8080/",
     "height": 323
    },
    "colab_type": "code",
    "id": "az8e0qbLupMQ",
    "outputId": "eae2e3fb-51b5-4429-a55f-b861cc7bf7cf"
   },
   "outputs": [
    {
     "name": "stdout",
     "output_type": "stream",
     "text": [
      "1 - east\n",
      "1 - asian\n",
      "1 - font\n",
      "1 - lenni\n",
      "1 - thank\n",
      "1 - support\n",
      "1 - instal\n",
      "1 - unifont\n",
      "1 - well\n",
      "1 - nima\n",
      "2 - unsubscrib\n",
      "1 - email\n",
      "1 - debian-user-request\n",
      "2 - lists.debian.org\n",
      "1 - subject\n",
      "1 - troubl\n",
      "1 - contact\n",
      "1 - listmast\n"
     ]
    }
   ],
   "source": [
    "# Manually perform term count on test_email\n",
    "for i in list(dict.fromkeys(tokenized_email)):\n",
    "  print(\"{} - {}\".format(tokenized_email.count(i), i))\n"
   ]
  },
  {
   "cell_type": "markdown",
   "metadata": {
    "colab_type": "text",
    "id": "ZvVbfkz_pEzR"
   },
   "source": [
    "## Task 3b (optional) - View the test email vectorizers\n",
    "1. Create a new **CountVectorizer** and **TfidfVectorizer** for demonstration\n",
    "2. Train the new vectorizers on **test_email** using **fit_transform**\n",
    "3. Print the results of each *transform*"
   ]
  },
  {
   "cell_type": "code",
   "execution_count": 16,
   "metadata": {
    "colab": {
     "base_uri": "https://localhost:8080/",
     "height": 782
    },
    "colab_type": "code",
    "id": "J0Zk9sYugzDy",
    "outputId": "b37c60af-dd68-4969-c6cc-0783eccf8c81"
   },
   "outputs": [
    {
     "name": "stdout",
     "output_type": "stream",
     "text": [
      "\n",
      "- Count Vectorizer (test_email) -\n",
      "\n",
      "  (0, 3)\t1\n",
      "  (0, 0)\t1\n",
      "  (0, 5)\t1\n",
      "  (0, 7)\t1\n",
      "  (0, 13)\t1\n",
      "  (0, 12)\t1\n",
      "  (0, 6)\t1\n",
      "  (0, 15)\t1\n",
      "  (0, 17)\t1\n",
      "  (0, 10)\t1\n",
      "  (0, 16)\t2\n",
      "  (0, 4)\t1\n",
      "  (0, 2)\t1\n",
      "  (0, 9)\t2\n",
      "  (0, 11)\t1\n",
      "  (0, 14)\t1\n",
      "  (0, 1)\t1\n",
      "  (0, 8)\t1\n",
      "\n",
      "==================================================\n",
      "\n",
      "\n",
      "- TFidf Vectorizer (test_email) -\n",
      "\n",
      "  (0, 8)\t0.20412414523193154\n",
      "  (0, 1)\t0.20412414523193154\n",
      "  (0, 14)\t0.20412414523193154\n",
      "  (0, 11)\t0.20412414523193154\n",
      "  (0, 9)\t0.4082482904638631\n",
      "  (0, 2)\t0.20412414523193154\n",
      "  (0, 4)\t0.20412414523193154\n",
      "  (0, 16)\t0.4082482904638631\n",
      "  (0, 10)\t0.20412414523193154\n",
      "  (0, 17)\t0.20412414523193154\n",
      "  (0, 15)\t0.20412414523193154\n",
      "  (0, 6)\t0.20412414523193154\n",
      "  (0, 12)\t0.20412414523193154\n",
      "  (0, 13)\t0.20412414523193154\n",
      "  (0, 7)\t0.20412414523193154\n",
      "  (0, 5)\t0.20412414523193154\n",
      "  (0, 0)\t0.20412414523193154\n",
      "  (0, 3)\t0.20412414523193154\n"
     ]
    }
   ],
   "source": [
    "example_cVec = CountVectorizer(tokenizer=tokenizer)\n",
    "example_X = example_cVec.fit_transform([test_email])\n",
    "\n",
    "print(\"\\n- Count Vectorizer (test_email) -\\n\")\n",
    "print(example_X)\n",
    "\n",
    "print()\n",
    "print(\"=\"* 50)\n",
    "print()\n",
    "\n",
    "example_tVec = TfidfVectorizer(tokenizer=tokenizer)\n",
    "example_X = example_tVec.fit_transform([test_email])\n",
    "\n",
    "print(\"\\n- TFidf Vectorizer (test_email) -\\n\")\n",
    "print(example_X)"
   ]
  },
  {
   "cell_type": "markdown",
   "metadata": {
    "colab_type": "text",
    "id": "TeE--QtjjhIV"
   },
   "source": [
    "# Load Testing Data\n",
    "With our vectorizers trained, we're going to use them to calculate the probabilities on our testing data."
   ]
  },
  {
   "cell_type": "code",
   "execution_count": 17,
   "metadata": {
    "colab": {
     "base_uri": "https://localhost:8080/",
     "height": 187
    },
    "colab_type": "code",
    "id": "QCkWLePj0W-b",
    "outputId": "df6fd15b-c671-431d-de11-a081e6852dc0"
   },
   "outputs": [
    {
     "data": {
      "text/plain": [
       "['TRAIN_00000.eml.txt.spam',\n",
       " 'TRAIN_00001.eml.txt.spam',\n",
       " 'TRAIN_00002.eml.txt.ham',\n",
       " 'TRAIN_00003.eml.txt.spam',\n",
       " 'TRAIN_00004.eml.txt.spam',\n",
       " 'TRAIN_00005.eml.txt.ham',\n",
       " 'TRAIN_00006.eml.txt.ham',\n",
       " 'TRAIN_00007.eml.txt.ham',\n",
       " 'TRAIN_00008.eml.txt.ham',\n",
       " 'TRAIN_00009.eml.txt.ham']"
      ]
     },
     "execution_count": 17,
     "metadata": {},
     "output_type": "execute_result"
    }
   ],
   "source": [
    "# List first 10 files in \"test\" directory\n",
    "#   The labels for each email are in the file name\n",
    "os.listdir(data_dir + '/test')[:10]"
   ]
  },
  {
   "cell_type": "markdown",
   "metadata": {
    "colab_type": "text",
    "id": "rs1JQc4EpHtx"
   },
   "source": [
    "## Task 4 - Load the testing data\n",
    "1. Create two *list()* arrays: **test_corpus** and **test_labels**\n",
    "2. Load the email bodies from from the **/test** directory into the *test_corpus* array\n",
    "3. Load the labels for each email into the *test_labels* array\n",
    "\n",
    "\\* The lengths of *test_corpus* and *test_labels* should be identical"
   ]
  },
  {
   "cell_type": "code",
   "execution_count": 23,
   "metadata": {
    "colab": {
     "base_uri": "https://localhost:8080/",
     "height": 85
    },
    "colab_type": "code",
    "id": "sOZUSpyDzFq6",
    "outputId": "19eb54f0-c8de-4d72-a805-4683ca8ef796"
   },
   "outputs": [
    {
     "name": "stdout",
     "output_type": "stream",
     "text": [
      "- Loading Test Set -\n",
      "\n",
      "### Loading Complete ###\n",
      "\n"
     ]
    }
   ],
   "source": [
    "# Load the testing data\n",
    "#   \"test_corpus\" is used to store all of the email bodies in a list\n",
    "#   \"test_labels\" is used to store all of the labes for those email bodies\n",
    "\n",
    "test_corpus = []   # X values\n",
    "test_labels = []   # Y values\n",
    "\n",
    "# Load all of the emails from the \"test\" directory\n",
    "print(\"- Loading Test Set -\")\n",
    "for filename in os.listdir(data_dir + '/test'):\n",
    "  with open(data_dir + '/test/' + filename, 'r', encoding=\"utf8\") as f:\n",
    "    test_corpus.append(f.read())\n",
    "    label = re.split(\"txt\\.\", filename)[1]\n",
    "    test_labels.append(label)\n",
    "    \n",
    "print(\"\\n### Loading Complete ###\\n\")"
   ]
  },
  {
   "cell_type": "code",
   "execution_count": 24,
   "metadata": {
    "colab": {
     "base_uri": "https://localhost:8080/",
     "height": 348
    },
    "colab_type": "code",
    "id": "C3VqmIM81nGf",
    "outputId": "38d92376-e8ea-4a36-ce14-aa4160f54ca7"
   },
   "outputs": [
    {
     "name": "stdout",
     "output_type": "stream",
     "text": [
      "Ham: 590\n",
      "Spam: 276\n"
     ]
    },
    {
     "data": {
      "image/png": "[encoded data removed]",
      "text/plain": [
       "<Figure size 432x288 with 1 Axes>"
      ]
     },
     "metadata": {
      "needs_background": "light"
     },
     "output_type": "display_data"
    }
   ],
   "source": [
    "# Print counts of each class\n",
    "count_test_classes = pd.value_counts(test_labels)\n",
    "print(\"Ham:\", count_test_classes['ham'])\n",
    "print(\"Spam:\", count_test_classes['spam'])\n",
    "\n",
    "# Graph counts of each class\n",
    "count_test_classes.plot(kind=\"bar\", fontsize=16)\n",
    "plt.title(\"Class Count (Testing)\", fontsize=20)\n",
    "plt.xticks(rotation=\"horizontal\")\n",
    "plt.xlabel(\"Class\", fontsize=20)\n",
    "plt.ylabel(\"Class Count\", fontsize=20)\n",
    "plt.show()"
   ]
  },
  {
   "cell_type": "markdown",
   "metadata": {
    "colab_type": "text",
    "id": "DWuPQzK1pJ9j"
   },
   "source": [
    "## Task 5 - Vectorize the testing data\n",
    "1. Use **cVec** to *transform* **test_corpus**\\\n",
    "a. Save the result as **test_count_X**\n",
    "\n",
    "2. Use **tVec** to *transform* **test_corpus**\\\n",
    "a. Save the result as **test_tfidf_X**"
   ]
  },
  {
   "cell_type": "code",
   "execution_count": 25,
   "metadata": {
    "colab": {
     "base_uri": "https://localhost:8080/",
     "height": 102
    },
    "colab_type": "code",
    "id": "PoDt2Qzx2_qZ",
    "outputId": "69a43606-4856-4cf7-db35-8ee4862fa4cf"
   },
   "outputs": [
    {
     "name": "stdout",
     "output_type": "stream",
     "text": [
      "- Count Vectorizer -\n",
      "- Tfidf Vectorizer -\n",
      "\n",
      "### Vectorizing Complete ###\n",
      "\n"
     ]
    }
   ],
   "source": [
    "# Vectorize the testing inputs -- Takes about 30 seconds to complete\n",
    "#   Use 'transform' instead of 'fit_transform' because we've already trained our vectorizer\n",
    "\n",
    "print(\"- Count Vectorizer -\")\n",
    "test_count_X = cVec.transform(test_corpus)\n",
    "\n",
    "print(\"- Tfidf Vectorizer -\")\n",
    "test_tfidf_X = tVec.transform(test_corpus)\n",
    "\n",
    "\n",
    "\n",
    "print(\"\\n### Vectorizing Complete ###\\n\")"
   ]
  },
  {
   "cell_type": "markdown",
   "metadata": {
    "colab_type": "text",
    "id": "UyiNCVFlloOL"
   },
   "source": [
    "# Test and Evaluate the Models\n",
    "OK, we have our training data loaded and our testing data loaded. Now it's time to train and evaluate our models. \n",
    "\n",
    "But first, we're going to define a helper function to display our evaluation reports."
   ]
  },
  {
   "cell_type": "code",
   "execution_count": 26,
   "metadata": {
    "colab": {
     "base_uri": "https://localhost:8080/",
     "height": 68
    },
    "colab_type": "code",
    "id": "qD3LWdNbYvqZ",
    "outputId": "fc6d213a-55f7-497d-f357-b38b06b6e4e2"
   },
   "outputs": [
    {
     "name": "stdout",
     "output_type": "stream",
     "text": [
      "\n",
      "### Report Generator Defined ###\n",
      "\n"
     ]
    }
   ],
   "source": [
    "# Define report generator\n",
    "\n",
    "def generate_report(cmatrix, score, creport):\n",
    "  \"\"\"Generates and displays graphical reports\n",
    "  Keyword arguments:\n",
    "    cmatrix - Confusion matrix generated by the model\n",
    "    score --- Score generated by the model\n",
    "    creport - Classification Report generated by the model\n",
    "    \n",
    "  :Returns -- N/A\n",
    "  \"\"\"\n",
    "  \n",
    "  # Generate confusion matrix heatmap\n",
    "  plt.figure(figsize=(5,5))\n",
    "  sns.heatmap(cmatrix, \n",
    "              annot=True, \n",
    "              fmt=\"d\", \n",
    "              linewidths=.5, \n",
    "              square = True, \n",
    "              cmap = 'Blues', \n",
    "              annot_kws={\"size\": 16}, \n",
    "              xticklabels=['ham', 'spam'], \n",
    "              yticklabels=['ham', 'spam'])\n",
    "\n",
    "  plt.xticks(rotation='horizontal', fontsize=16)\n",
    "  plt.yticks(rotation='horizontal', fontsize=16)\n",
    "  plt.xlabel('Actual Label', size=20);\n",
    "  plt.ylabel('Predicted Label', size=20);\n",
    "\n",
    "  title = 'Accuracy Score: {0:.4f}'.format(score)\n",
    "  plt.title(title, size = 20);\n",
    "\n",
    "  # Display classification report and confusion matrix\n",
    "  print(creport)\n",
    "  plt.show()\n",
    "  \n",
    "\n",
    "print(\"\\n### Report Generator Defined ###\\n\")"
   ]
  },
  {
   "cell_type": "markdown",
   "metadata": {
    "colab_type": "text",
    "id": "ThtKcNrGpMhk"
   },
   "source": [
    "## Task 6a - Train and evaluate the MNB-TFIDF model\n",
    "1. Create **mnb_tfidf** as a **MultinomialNB()** constructor\n",
    "2. Use **fit** to train *mnb_tfidf* on the training data (*tfidf_X*) and training labels (*labels*)\n",
    "3. Evaluate the model with the testing data (*test_tfidf_X*) and testing labels (*test_labels*):\\\n",
    "a. Use the **score** function in *mnb_tfidf* to calculate model accuracy; save the results as **score_mnb_tfidf**\\\n",
    "b. Use the **predict** function in *mnb_tfidf* to generate model predictions; save the results as **predictions_mnb_tfidf**\\\n",
    "c. Generate the confusion matrix with **confusion_matrix**, using the predictons and labels; save the results as **cmatrix_mnb_tfidf**\\\n",
    "d. Generate the classification report with **classification_report**, using the predictions and labels; save the results as **creport_mnb_tfidf**"
   ]
  },
  {
   "cell_type": "code",
   "execution_count": 27,
   "metadata": {
    "colab": {
     "base_uri": "https://localhost:8080/",
     "height": 531
    },
    "colab_type": "code",
    "id": "X62-VpY3MrUw",
    "outputId": "d5fd91fa-43ba-473f-b61a-7662a60a5955"
   },
   "outputs": [
    {
     "name": "stdout",
     "output_type": "stream",
     "text": [
      "\n",
      "### Model Built ###\n",
      "\n",
      "              precision    recall  f1-score   support\n",
      "\n",
      "         ham       1.00      0.85      0.92       698\n",
      "        spam       0.61      1.00      0.76       168\n",
      "\n",
      "    accuracy                           0.88       866\n",
      "   macro avg       0.80      0.92      0.84       866\n",
      "weighted avg       0.92      0.88      0.89       866\n",
      "\n"
     ]
    },
    {
     "data": {
      "image/png": "[encoded data removed]",
      "text/plain": [
       "<Figure size 360x360 with 2 Axes>"
      ]
     },
     "metadata": {
      "needs_background": "light"
     },
     "output_type": "display_data"
    }
   ],
   "source": [
    "# Multinomial Naive Bayesian with TF-IDF\n",
    "\n",
    "# Train the model\n",
    "mnb_tfidf = MultinomialNB()\n",
    "mnb_tfidf.fit(tfidf_X, labels)\n",
    "\n",
    "\n",
    "# Test the mode (score, predictions, confusion matrix, classification report)\n",
    "score_mnb_tfidf = mnb_tfidf.score(test_tfidf_X, test_labels)\n",
    "predictions_mnb_tfidf = mnb_tfidf.predict(test_tfidf_X)\n",
    "cmatrix_mnb_tfidf = confusion_matrix(predictions_mnb_tfidf, test_labels)\n",
    "creport_mnb_tfidf = classification_report(predictions_mnb_tfidf, test_labels)\n",
    "\n",
    "print(\"\\n### Model Built ###\\n\")\n",
    "generate_report(cmatrix_mnb_tfidf, score_mnb_tfidf, creport_mnb_tfidf)"
   ]
  },
  {
   "cell_type": "markdown",
   "metadata": {
    "colab_type": "text",
    "id": "xPsNl19upOyB"
   },
   "source": [
    "## Task 6b - Train and evaluate the MNB-Count model\n",
    "1. Create **mnb_count** as a **MultinomialNB()** constructor\n",
    "2. Use **fit** to train *mnb_count* on the training data (*count_X*) and training labels (*labels*)\n",
    "3. Evaluate the model with the testing data (*test_count_X*) and testing labels (*test_labels*):\\\n",
    "a. Use the **score** function in *mnb_count* to calculate model accuracy; save the results as **score_mnb_count**\\\n",
    "b. Use the **predict** function in *mnb_count* to generate model predictions; save the results as **predictions_mnb_count**\\\n",
    "c. Generate the confusion matrix with **confusion_matrix**, using the predictons and labels; save the results as **cmatrix_mnb_count**\\\n",
    "d. Generate the classification report with **classification_report**, using the predictions and labels; save the results as **creport_mnb_count**"
   ]
  },
  {
   "cell_type": "code",
   "execution_count": 28,
   "metadata": {
    "colab": {
     "base_uri": "https://localhost:8080/",
     "height": 531
    },
    "colab_type": "code",
    "id": "3rzTGHNfMsBp",
    "outputId": "578a77a4-c0c3-43b1-fe46-e0a04d8c4064"
   },
   "outputs": [
    {
     "name": "stdout",
     "output_type": "stream",
     "text": [
      "\n",
      "### Model Built ###\n",
      "\n",
      "              precision    recall  f1-score   support\n",
      "\n",
      "         ham       0.96      0.96      0.96       587\n",
      "        spam       0.92      0.91      0.91       279\n",
      "\n",
      "    accuracy                           0.94       866\n",
      "   macro avg       0.94      0.93      0.94       866\n",
      "weighted avg       0.94      0.94      0.94       866\n",
      "\n"
     ]
    },
    {
     "data": {
      "image/png": "[encoded data removed]",
      "text/plain": [
       "<Figure size 360x360 with 2 Axes>"
      ]
     },
     "metadata": {
      "needs_background": "light"
     },
     "output_type": "display_data"
    }
   ],
   "source": [
    "# Multinomial Naive Bayesian with Count Vectorizer\n",
    "\n",
    "# Train the model\n",
    "mnb_count = MultinomialNB()\n",
    "mnb_count.fit(count_X, labels)\n",
    "\n",
    "\n",
    "# Test the mode (score, predictions, confusion matrix, classification report)\n",
    "score_mnb_count = mnb_count.score(test_count_X, test_labels)\n",
    "predictions_mnb_count = mnb_count.predict(test_count_X)\n",
    "cmatrix_mnb_count = confusion_matrix(predictions_mnb_count, test_labels)\n",
    "creport_mnb_count = classification_report(predictions_mnb_count, test_labels)\n",
    "\n",
    "print(\"\\n### Model Built ###\\n\")\n",
    "generate_report(cmatrix_mnb_count, score_mnb_count, creport_mnb_count)"
   ]
  },
  {
   "cell_type": "markdown",
   "metadata": {
    "colab_type": "text",
    "id": "teRzp5LDpR1H"
   },
   "source": [
    "## Task 6c - Train and evaluate the LGS-TFIDF model\n",
    "1. Create **lgs_tfidf** as a **LogisticRegression()** constructor, using the **lbfgs** *solver*\n",
    "2. Use **fit** to train *lgs_tfidf* on the training data (*tfidf_X*) and training labels (*labels*)\n",
    "3. Evaluate the model with the testing data (*test_tfidf_X*) and testing labels (*test_labels*):\\\n",
    "a. Use the **score** function in *lgs_tfidf* to calculate model accuracy; save the results as **score_lgs_tfidf**\\\n",
    "b. Use the **predict** function in *lgs_tfidf* to generate model predictions; save the results as **predictions_lgs_tfidf**\\\n",
    "c. Generate the confusion matrix with **confusion_matrix**, using the predictons and labels; save the results as **cmatrix_lgs_tfidf**\\\n",
    "d. Generate the classification report with **classification_report**, using the predictions and labels; save the results as **creport_lgs_tfidf**"
   ]
  },
  {
   "cell_type": "code",
   "execution_count": 29,
   "metadata": {
    "colab": {
     "base_uri": "https://localhost:8080/",
     "height": 531
    },
    "colab_type": "code",
    "id": "Yoc2efFxMsw0",
    "outputId": "695c6b3e-8c71-48d9-894b-cf0dbbd73e05"
   },
   "outputs": [
    {
     "name": "stdout",
     "output_type": "stream",
     "text": [
      "\n",
      "### Model Built ###\n",
      "\n",
      "              precision    recall  f1-score   support\n",
      "\n",
      "         ham       0.99      0.95      0.97       619\n",
      "        spam       0.88      0.99      0.93       247\n",
      "\n",
      "    accuracy                           0.96       866\n",
      "   macro avg       0.94      0.97      0.95       866\n",
      "weighted avg       0.96      0.96      0.96       866\n",
      "\n"
     ]
    },
    {
     "data": {
      "image/png": "[encoded data removed]",
      "text/plain": [
       "<Figure size 360x360 with 2 Axes>"
      ]
     },
     "metadata": {
      "needs_background": "light"
     },
     "output_type": "display_data"
    }
   ],
   "source": [
    "# Logistic Regression with TF-IDF\n",
    "\n",
    "# Train the model\n",
    "lgs_tfidf = LogisticRegression(solver='lbfgs')\n",
    "lgs_tfidf.fit(tfidf_X, labels)\n",
    "\n",
    "\n",
    "# Test the mode (score, predictions, confusion matrix, classification report)\n",
    "score_lgs_tfidf = lgs_tfidf.score(test_tfidf_X, test_labels)\n",
    "predictions_lgs_tfidf = lgs_tfidf.predict(test_tfidf_X)\n",
    "cmatrix_lgs_tfidf = confusion_matrix(predictions_lgs_tfidf, test_labels)\n",
    "creport_lgs_tfidf = classification_report(predictions_lgs_tfidf, test_labels)\n",
    "\n",
    "print(\"\\n### Model Built ###\\n\")\n",
    "generate_report(cmatrix_lgs_tfidf, score_lgs_tfidf, creport_lgs_tfidf)"
   ]
  },
  {
   "cell_type": "markdown",
   "metadata": {
    "colab_type": "text",
    "id": "ytP1MukVpTs3"
   },
   "source": [
    "## Task 6d - Train and evaluate the LGS-Count model\n",
    "1. Create **lgs_count** as a **LogisticRegression()** constructor, using the **lbfgs** *solver*\n",
    "2. Use **fit** to train *lgs_count* on the training data (*count_X*) and training labels (*labels*)\n",
    "3. Evaluate the model with the testing data (*test_count_X*) and testing labels (*test_labels*):\\\n",
    "a. Use the **score** function in *lgs_count* to calculate model accuracy; save the results as **score_lgs_count**\\\n",
    "b. Use the **predict** function in *lgs_count* to generate model predictions; save the results as **predictions_lgs_count**\\\n",
    "c. Generate the confusion matrix with **confusion_matrix**, using the predictons and labels; save the results as **cmatrix_lgs_count**\\\n",
    "d. Generate the classification report with **classification_report**, using the predictions and labels; save the results as **creport_lgs_count**"
   ]
  },
  {
   "cell_type": "code",
   "execution_count": 30,
   "metadata": {
    "colab": {
     "base_uri": "https://localhost:8080/",
     "height": 531
    },
    "colab_type": "code",
    "id": "v5vj_np2Mtb4",
    "outputId": "3bfe3e50-610e-40ee-b640-a9301e2e303f"
   },
   "outputs": [
    {
     "name": "stdout",
     "output_type": "stream",
     "text": [
      "\n",
      "### Model Built ###\n",
      "\n",
      "              precision    recall  f1-score   support\n",
      "\n",
      "         ham       0.99      0.98      0.98       594\n",
      "        spam       0.96      0.97      0.96       272\n",
      "\n",
      "    accuracy                           0.98       866\n",
      "   macro avg       0.97      0.98      0.97       866\n",
      "weighted avg       0.98      0.98      0.98       866\n",
      "\n"
     ]
    },
    {
     "data": {
      "image/png": "[encoded data removed]",
      "text/plain": [
       "<Figure size 360x360 with 2 Axes>"
      ]
     },
     "metadata": {
      "needs_background": "light"
     },
     "output_type": "display_data"
    }
   ],
   "source": [
    "# Logistic Regression with Count Vectorizer\n",
    "\n",
    "# Train the model\n",
    "lgs_count = LogisticRegression(solver='lbfgs')\n",
    "lgs_count.fit(count_X, labels)\n",
    "\n",
    "\n",
    "# Test the mode (score, predictions, confusion matrix, classification report)\n",
    "score_lgs_count = lgs_count.score(test_count_X, test_labels)\n",
    "predictions_lgs_count = lgs_count.predict(test_count_X)\n",
    "cmatrix_lgs_count = confusion_matrix(predictions_lgs_count, test_labels)\n",
    "creport_lgs_count = classification_report(predictions_lgs_count, test_labels)\n",
    "\n",
    "print(\"\\n### Model Built ###\\n\")\n",
    "generate_report(cmatrix_lgs_count, score_lgs_count, creport_lgs_count)"
   ]
  },
  {
   "cell_type": "code",
   "execution_count": 31,
   "metadata": {
    "colab": {
     "base_uri": "https://localhost:8080/",
     "height": 292
    },
    "colab_type": "code",
    "id": "NS37VaM0oEDJ",
    "outputId": "8c41a81f-9100-4774-fd3b-9f7852f3d114"
   },
   "outputs": [
    {
     "name": "stdout",
     "output_type": "stream",
     "text": [
      "Your latest issue is available NOW! If you do not want issue notifications, click here to unsubscribe.\n",
      "logo\n",
      "Hi GEORGE,\n",
      "\n",
      "Your latest digital issue is available NOW!\n",
      "\n",
      "Enjoy all the latest from InStyle right on your phone, computer or tablet!\n",
      "\n",
      "View your library now.\n",
      "\n",
      "READ NOW\n",
      "Your digital issue is delivered by emagazines.com. To unsubscribe, go here. Do not reply to this email. For more information, review our Privacy Policy and customer care options visit Customer Support.\n",
      "\n",
      "Copyright © 2017 - 2019 eMagazines. All Rights Reserved. 230 W Huron St., Ste 500, Chicago, IL 60654\n",
      "\n"
     ]
    }
   ],
   "source": [
    "# Spam email retrieved from my inbox (5/20/2019)\n",
    "\n",
    "test_spam_email = \"\"\"Your latest issue is available NOW! If you do not want issue notifications, click here to unsubscribe.\n",
    "logo\n",
    "Hi GEORGE,\n",
    "\n",
    "Your latest digital issue is available NOW!\n",
    "\n",
    "Enjoy all the latest from InStyle right on your phone, computer or tablet!\n",
    "\n",
    "View your library now.\n",
    "\n",
    "READ NOW\n",
    "Your digital issue is delivered by emagazines.com. To unsubscribe, go here. Do not reply to this email. For more information, review our Privacy Policy and customer care options visit Customer Support.\n",
    "\n",
    "Copyright © 2017 - 2019 eMagazines. All Rights Reserved. 230 W Huron St., Ste 500, Chicago, IL 60654\n",
    "\"\"\"\n",
    "print(test_spam_email)"
   ]
  },
  {
   "cell_type": "markdown",
   "metadata": {
    "colab_type": "text",
    "id": "P--bMk8SpWa2"
   },
   "source": [
    "## Task 7 - Make a prediction\n",
    "1. Use the *vectorizers* and *models* created to perform predictions on **test_email** and **test_spam_email**"
   ]
  },
  {
   "cell_type": "code",
   "execution_count": 32,
   "metadata": {
    "colab": {
     "base_uri": "https://localhost:8080/",
     "height": 411
    },
    "colab_type": "code",
    "id": "7HPn0uJEZ7_H",
    "outputId": "cdb4f312-26e6-40ec-dd1c-72ed6e200b50"
   },
   "outputs": [
    {
     "name": "stdout",
     "output_type": "stream",
     "text": [
      "Your latest issue is available NOW! If you do not want issue notifications, click here to unsubscribe.\n",
      "logo\n",
      "Hi GEORGE,\n",
      "\n",
      "Your latest digital issue is available NOW!\n",
      "\n",
      "Enjoy all the latest from InStyle right on your phone, computer or tablet!\n",
      "\n",
      "View your library now.\n",
      "\n",
      "READ NOW\n",
      "Your digital issue is delivered by emagazines.com. To unsubscribe, go here. Do not reply to this email. For more information, review our Privacy Policy and customer care options visit Customer Support.\n",
      "\n",
      "Copyright © 2017 - 2019 eMagazines. All Rights Reserved. 230 W Huron St., Ste 500, Chicago, IL 60654\n",
      "\n",
      "\n",
      "- Model Predictions -\n",
      "\n",
      "MNB/TFIDF: ['ham']\n",
      "MNB/Count: ['spam']\n",
      "LGS/TFIDF: ['spam']\n",
      "LGS/Count: ['spam']\n"
     ]
    }
   ],
   "source": [
    "# Enter an email to be predicted\n",
    "\n",
    "working_email = test_spam_email\n",
    "\n",
    "\n",
    "test_email_tfidf = tVec.transform([working_email])\n",
    "test_email_count = cVec.transform([working_email])\n",
    "\n",
    "test_email_mnb_tfidf_pred = mnb_tfidf.predict(test_email_tfidf)\n",
    "test_email_mnb_count_pred = mnb_count.predict(test_email_count)\n",
    "test_email_lgs_tfidf_pred = lgs_tfidf.predict(test_email_tfidf)\n",
    "test_email_lgs_count_pred = lgs_count.predict(test_email_count)\n",
    "\n",
    "\n",
    "print(working_email)\n",
    "\n",
    "print(\"\\n- Model Predictions -\\n\")\n",
    "print(\"MNB/TFIDF:\", test_email_mnb_tfidf_pred)\n",
    "print(\"MNB/Count:\", test_email_mnb_count_pred)\n",
    "\n",
    "print(\"LGS/TFIDF:\", test_email_lgs_tfidf_pred)\n",
    "print(\"LGS/Count:\", test_email_lgs_count_pred)"
   ]
  },
  {
   "cell_type": "code",
   "execution_count": null,
   "metadata": {
    "colab": {},
    "colab_type": "code",
    "id": "nKwzaCYodIiu"
   },
   "outputs": [],
   "source": []
  }
 ],
 "metadata": {
  "colab": {
   "collapsed_sections": [
    "SwawBDPuhgUP",
    "mxS4n9Gfyvw2",
    "VjMomkNIzsJd",
    "dPtTuWPDhy_Y",
    "Z_8CHFksox52",
    "2h_fentliZuA",
    "DL4NOtrUo3uL",
    "XLErmbFUo7Ho",
    "q4PmEWehhCDo",
    "nuZgNrloo_fO",
    "9jQBLgmRpC8U",
    "ZvVbfkz_pEzR",
    "TeE--QtjjhIV",
    "rs1JQc4EpHtx",
    "DWuPQzK1pJ9j",
    "UyiNCVFlloOL",
    "ThtKcNrGpMhk",
    "xPsNl19upOyB",
    "teRzp5LDpR1H",
    "ytP1MukVpTs3",
    "P--bMk8SpWa2"
   ],
   "name": "Workbook (complete): Spam Filter (Sklearn).ipynb",
   "provenance": [],
   "version": "0.3.2"
  },
  "kernelspec": {
   "display_name": "Python 3 (ipykernel)",
   "language": "python",
   "name": "python3"
  },
  "language_info": {
   "codemirror_mode": {
    "name": "ipython",
    "version": 3
   },
   "file_extension": ".py",
   "mimetype": "text/x-python",
   "name": "python",
   "nbconvert_exporter": "python",
   "pygments_lexer": "ipython3",
   "version": "3.9.12"
  }
 },
 "nbformat": 4,
 "nbformat_minor": 1
}
